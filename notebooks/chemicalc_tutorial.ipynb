{
 "cells": [
  {
   "cell_type": "markdown",
   "metadata": {},
   "source": [
    "# Chem-I-Calc Basics\n",
    "\n",
    "## Instruments\n",
    "The instrument object is half of the CRLB calculation and provides the instrumental wavelength coverage, sampling, and resolution of the spectrum as well as the Signal/Noise for the observation.\n",
    "\n",
    "### Pre-Defined Instruments\n",
    "We have included the following spectrographs of interest which you can initialize as follows. <br>\n",
    "(Requests for other standard spectraphs are welcome!)"
   ]
  },
  {
   "cell_type": "code",
   "execution_count": 38,
   "metadata": {
    "scrolled": true
   },
   "outputs": [
    {
     "name": "stdout",
     "output_type": "stream",
     "text": [
      "DEIMOS 1200G\n",
      "6500 < lambda (A) < 9000\n",
      "R ~ 6500\n",
      "Sampling ~ 4 pix/FWHM\n",
      "\n",
      "DEIMOS 900ZD\n",
      "4000 < lambda (A) < 7200\n",
      "R ~ 2550\n",
      "Sampling ~ 5 pix/FWHM\n",
      "\n",
      "DEIMOS 1200B\n",
      "4000 < lambda (A) < 6400\n",
      "R ~ 4000\n",
      "Sampling ~ 4 pix/FWHM\n",
      "\n",
      "LRIS 600/4000 (b)\n",
      "3900 < lambda (A) < 5500\n",
      "R ~ 1800\n",
      "Sampling ~ 4 pix/FWHM\n",
      "\n",
      "LRIS 1200/7500 (r)\n",
      "7700 < lambda (A) < 9000\n",
      "R ~ 4000\n",
      "Sampling ~ 5 pix/FWHM\n",
      "\n",
      "HIRESr 1.0\"\n",
      "3900 < lambda (A) < 8350\n",
      "R ~ 34000\n",
      "Sampling ~ 3 pix/FWHM\n",
      "\n",
      "HIRESr 0.8\"\n",
      "3900 < lambda (A) < 8350\n",
      "R ~ 49000\n",
      "Sampling ~ 3 pix/FWHM\n",
      "\n",
      "MIKE 1\" (r)\n",
      "4900 < lambda (A) < 10000\n",
      "R ~ 22000\n",
      "Sampling ~ 3 pix/FWHM\n",
      "\n",
      "MIKE 1\" (b)\n",
      "3350 < lambda (A) < 5000\n",
      "R ~ 28000\n",
      "Sampling ~ 3 pix/FWHM\n",
      "\n",
      "M2FS MedRes\n",
      "5132 < lambda (A) < 5186\n",
      "R ~ 18000\n",
      "Sampling ~ 3 pix/FWHM\n",
      "\n",
      "Hectochelle\n",
      "3800 < lambda (A) < 9000\n",
      "R ~ 32000\n",
      "Sampling ~ 3 pix/FWHM\n",
      "\n",
      "Hectochelle\n",
      "3650 < lambda (A) < 9200\n",
      "R ~ 1000\n",
      "Sampling ~ 3 pix/FWHM\n",
      "\n",
      "MUSE\n",
      "4650 < lambda (A) < 9300\n",
      "R ~ 3000\n",
      "Sampling ~ 3 pix/FWHM\n",
      "\n",
      "NIRSpec G140M/F070LP\n",
      "7000 < lambda (A) < 12700\n",
      "R ~ 1000\n",
      "Sampling ~ 3 pix/FWHM\n",
      "\n",
      "NIRSpec G140M/F100LP\n",
      "9700 < lambda (A) < 17999\n",
      "R ~ 1000\n",
      "Sampling ~ 3 pix/FWHM\n",
      "\n",
      "NIRSpec G140H/F070LP\n",
      "7000 < lambda (A) < 12700\n",
      "R ~ 2700\n",
      "Sampling ~ 3 pix/FWHM\n",
      "\n",
      "NIRSpec G140H/F100LP\n",
      "9700 < lambda (A) < 17999\n",
      "R ~ 2700\n",
      "Sampling ~ 3 pix/FWHM\n",
      "\n",
      "LAMOST\n",
      "3900 < lambda (A) < 9000\n",
      "R ~ 2000\n",
      "Sampling ~ 3 pix/FWHM\n",
      "\n",
      "WEAVE\n",
      "3700 < lambda (A) < 10000\n",
      "R ~ 6000\n",
      "Sampling ~ 3 pix/FWHM\n",
      "\n",
      "RAVE\n",
      "8400 < lambda (A) < 8800\n",
      "R ~ 8000\n",
      "Sampling ~ 3 pix/FWHM\n",
      "\n",
      "DESI (b)\n",
      "3600 < lambda (A) < 5550\n",
      "R ~ 2000\n",
      "Sampling ~ 3 pix/FWHM\n",
      "\n",
      "DESI (r)\n",
      "5550 < lambda (A) < 6560\n",
      "R ~ 3200\n",
      "Sampling ~ 3 pix/FWHM\n",
      "\n",
      "DESI (i)\n",
      "6560 < lambda (A) < 9800\n",
      "R ~ 4100\n",
      "Sampling ~ 3 pix/FWHM\n",
      "\n",
      "R100\n",
      "3001 < lambda (A) < 17999\n",
      "R ~ 100.0\n",
      "Sampling ~ 3 pix/FWHM\n",
      "\n",
      "R1000\n",
      "3001 < lambda (A) < 17999\n",
      "R ~ 1000.0\n",
      "Sampling ~ 3 pix/FWHM\n",
      "\n",
      "R10000\n",
      "3001 < lambda (A) < 17999\n",
      "R ~ 10000.0\n",
      "Sampling ~ 3 pix/FWHM\n",
      "\n"
     ]
    }
   ],
   "source": [
    "import numpy as np\n",
    "from copy import copy\n",
    "import matplotlib.pyplot as plt\n",
    "\n",
    "from chemicalc import instruments as inst\n",
    "from chemicalc import s2n\n",
    "\n",
    "allInst = inst.AllInstruments()\n",
    "\n",
    "for name in allInst.spectrographs:\n",
    "    spectrograph = allInst.spectrographs[name]\n",
    "    spectrograph.summary()\n",
    "    print('')"
   ]
  },
  {
   "cell_type": "markdown",
   "metadata": {},
   "source": [
    "### Custom Instruments\n",
    "\n",
    "You can easily create your own instrumental configuration by providing the following information:\n",
    "\n",
    "- Instrument Name\n",
    "- Resolving Power ($\\Delta\\lambda/\\lambda$)\n",
    "- Wavelength Sampling (pix / FWHM)\n",
    "- Starting Wavelength (Angstrom) (> 3000 A)\n",
    "- Ending Wavelength (Angstrom) (< 18000 A)"
   ]
  },
  {
   "cell_type": "code",
   "execution_count": 25,
   "metadata": {},
   "outputs": [
    {
     "name": "stdout",
     "output_type": "stream",
     "text": [
      "My Instrument\n",
      "8000 < lambda (A) < 9000\n",
      "R ~ 4000\n",
      "Sampling ~ 3 pix/FWHM\n"
     ]
    }
   ],
   "source": [
    "custom_spectrographs = inst.MiscInstrument('My Instrument', res=4000, samp=3, start=8000, end=9000)\n",
    "custom_spectrographs.summary()"
   ]
  },
  {
   "cell_type": "markdown",
   "metadata": {},
   "source": [
    "If you have a specific wavelength grid you'd like to use, simply assign it to an already initialized instrument. <br>\n",
    "NOTE: This does not change the instrument summary from what it was initialized as."
   ]
  },
  {
   "cell_type": "code",
   "execution_count": 32,
   "metadata": {},
   "outputs": [
    {
     "name": "stdout",
     "output_type": "stream",
     "text": [
      "[5000. 5001. 5002. ... 5998. 5999. 6000.]\n"
     ]
    }
   ],
   "source": [
    "custom_spectrographs.wave = np.linspace(5000,6000,1001)\n",
    "print(custom_spectrographs.wave)"
   ]
  },
  {
   "cell_type": "markdown",
   "metadata": {},
   "source": [
    "### Set Signal/Noise\n",
    "\n",
    "Before you can calculate the CRLBs for an instrument, you need to set the S/N for your observations. This can be a constant value, or an array that can be interpolated onto your wavelength. There is also funcitonality to query the WMKO ETC for DEIMOS, LRIS, and HIRES (e.g., http://etc.ucolick.org/web_s2n/deimos) and functionality to query other online exposure time calculators is in the works."
   ]
  },
  {
   "cell_type": "code",
   "execution_count": 60,
   "metadata": {},
   "outputs": [
    {
     "data": {
      "image/png": "[encoded data removed]",
      "text/plain": [
       "<Figure size 1440x720 with 1 Axes>"
      ]
     },
     "metadata": {
      "needs_background": "light"
     },
     "output_type": "display_data"
    }
   ],
   "source": [
    "d1200g_default = allInst.spectrographs['DEIMOS 1200G']\n",
    "d1200g_const = copy(d1200g_default)\n",
    "d1200g_query = copy(d1200g_default)\n",
    "d1200g_interp = copy(d1200g_default)\n",
    "\n",
    "d1200g_const.set_snr(30)\n",
    "\n",
    "one_hour = 3600  # s\n",
    "d1200G_snr_query_1h = s2n.Sig2NoiseDEIMOS(grating='1200G', exptime=1*one_hour, mag=19, magtype='Vega',\n",
    "                                          band='Buser_V.dat', template='K5V_pickles_36.fits',\n",
    "                                          cwave='7000', slitwidth='0.75', binning='1x1',\n",
    "                                          airmass=1.1, seeing=0.75, redshift=0)\n",
    "d1200g_query.set_snr(d1200G_snr_query_1h)\n",
    "\n",
    "snr_wave = np.linspace(6000, 9000, 30)\n",
    "snr_value = np.linspace(20, 80, 30)\n",
    "snr_array = np.array([snr_wave, snr_value])\n",
    "d1200g_interp.set_snr(snr_array)\n",
    "\n",
    "\n",
    "plt.figure(figsize=(20,10))\n",
    "plt.plot(d1200g_const.wave, d1200g_const.snr, label='Constant S/N')\n",
    "plt.plot(d1200g_query.wave, d1200g_query.snr, label='WMKO ETC')\n",
    "plt.plot(d1200g_interp.wave, d1200g_interp.snr, label='Custom S/N')\n",
    "plt.xlabel(r'Wavelength $[\\AA]$')\n",
    "plt.ylabel(r'Signal/Noise pixel$^{-1}$')\n",
    "plt.legend()\n",
    "plt.show()"
   ]
  },
  {
   "cell_type": "markdown",
   "metadata": {},
   "source": [
    "## Reference Stars\n",
    "\n",
    "The spectrum and labels of the star in question is the other half of the equation when it comes to calculating the CRLB. You can check which stars are currently included as follows. More will be included eventually. And in future versions, fucntionality to import user spectra / gradients will be included."
   ]
  },
  {
   "cell_type": "code",
   "execution_count": 64,
   "metadata": {},
   "outputs": [
    {
     "name": "stdout",
     "output_type": "stream",
     "text": [
      "['RGB_m1.0', 'RGB_m1.5', 'RGB_m2.0']\n"
     ]
    }
   ],
   "source": [
    "from chemicalc import reference_spectra as ref\n",
    "import matplotlib.pyplot as plt\n",
    "print(ref.reference_stars)"
   ]
  },
  {
   "cell_type": "markdown",
   "metadata": {},
   "source": [
    "The labels of the reference star can be be found as follows"
   ]
  },
  {
   "cell_type": "code",
   "execution_count": 67,
   "metadata": {},
   "outputs": [
    {
     "name": "stdout",
     "output_type": "stream",
     "text": [
      "Teff       4.750000e+03\n",
      "logg       1.800000e+00\n",
      "v_micro    1.900000e+00\n",
      "Li         0.000000e+00\n",
      "Be         0.000000e+00\n",
      "B          0.000000e+00\n",
      "C          4.440892e-16\n",
      "N          0.000000e+00\n",
      "O          4.440892e-16\n",
      "F          0.000000e+00\n",
      "Ne         0.000000e+00\n",
      "Na         0.000000e+00\n",
      "Mg         0.000000e+00\n",
      "Al         0.000000e+00\n",
      "Si         0.000000e+00\n",
      "P          8.881784e-16\n",
      "S          0.000000e+00\n",
      "Cl         8.881784e-16\n",
      "Ar         0.000000e+00\n",
      "K          0.000000e+00\n",
      "Ca         0.000000e+00\n",
      "Sc         0.000000e+00\n",
      "Ti         0.000000e+00\n",
      "V          0.000000e+00\n",
      "Cr         0.000000e+00\n",
      "Mn         8.881784e-16\n",
      "Fe        -1.500000e+00\n",
      "Co        -8.881784e-16\n",
      "Ni         0.000000e+00\n",
      "Cu         0.000000e+00\n",
      "               ...     \n",
      "Yb         0.000000e+00\n",
      "Lu         0.000000e+00\n",
      "Hf         0.000000e+00\n",
      "Ta         0.000000e+00\n",
      "W          0.000000e+00\n",
      "Re         0.000000e+00\n",
      "Os         0.000000e+00\n",
      "Ir         0.000000e+00\n",
      "Pt         0.000000e+00\n",
      "Au         0.000000e+00\n",
      "Hg         0.000000e+00\n",
      "Tl         0.000000e+00\n",
      "Pb         0.000000e+00\n",
      "Bi         0.000000e+00\n",
      "Po         0.000000e+00\n",
      "At         0.000000e+00\n",
      "Rn         0.000000e+00\n",
      "Fr         0.000000e+00\n",
      "Ra         0.000000e+00\n",
      "Ac         0.000000e+00\n",
      "Th         0.000000e+00\n",
      "Pa         0.000000e+00\n",
      "U          0.000000e+00\n",
      "Np         0.000000e+00\n",
      "Pu         0.000000e+00\n",
      "Am         0.000000e+00\n",
      "Cm         0.000000e+00\n",
      "Bk         0.000000e+00\n",
      "Cf         0.000000e+00\n",
      "Es         0.000000e+00\n",
      "Name: aaaaa, Length: 100, dtype: float64\n"
     ]
    }
   ],
   "source": [
    "RGB = ref.ReferenceSpectra(reference='RGB_m1.5', res='high')\n",
    "print(RGB.labels.iloc[:,0])"
   ]
  },
  {
   "cell_type": "code",
   "execution_count": 71,
   "metadata": {},
   "outputs": [
    {
     "data": {
      "image/png": "[encoded data removed]",
      "text/plain": [
       "<Figure size 1440x720 with 1 Axes>"
      ]
     },
     "metadata": {
      "needs_background": "light"
     },
     "output_type": "display_data"
    }
   ],
   "source": [
    "plt.figure(figsize=(20,10))\n",
    "plt.plot(RGB.wavelength['init'], RGB.spectra['init'][0])\n",
    "plt.xlabel(r'Wavelength [$\\AA$]')\n",
    "plt.ylabel('Normalized Flux')\n",
    "plt.show()"
   ]
  },
  {
   "cell_type": "markdown",
   "metadata": {},
   "source": [
    "## Calculating CRLBs\n",
    "\n",
    "Now we have all the tools to calculate the CRLBs!"
   ]
  },
  {
   "cell_type": "code",
   "execution_count": 89,
   "metadata": {},
   "outputs": [
    {
     "data": {
      "application/vnd.plotly.v1+json": {
       "config": {
        "plotlyServerURL": "https://plot.ly"
       },
       "data": [
        {
         "connectgaps": true,
         "line": {
          "color": "rgba(0.267004, 0.004874, 0.329415, 1.0)"
         },
         "marker": {
          "line": {
           "width": 2
          },
          "size": 12
         },
         "mode": "lines+markers",
         "name": "DEIMOS 1200G",
         "type": "scatter",
         "x": [
          "$T_{eff}$ (100 K)",
          "$\\log(g)$",
          "$v_{micro}$ (km/s)",
          "Fe",
          "Ca",
          "Ni",
          "Si",
          "Ti",
          "Co",
          "Mg",
          "Cr",
          "Na",
          "K",
          "Sc"
         ],
         "y": [
          0.299509851131378,
          0.18539478779404614,
          0.12299197925507732,
          0.036966986673976986,
          0.04451639306362579,
          0.05018724984268617,
          0.06298470803073321,
          0.07914608096556325,
          0.08584869408444706,
          0.09114080199491441,
          0.1197155687621879,
          0.135483394511746,
          0.1450462090230121,
          0.19801416393357238
         ]
        }
       ],
       "layout": {
        "legend": {
         "font": {
          "size": 16
         },
         "orientation": "h",
         "x": 0.99,
         "xanchor": "right",
         "y": 0.01,
         "yanchor": "bottom"
        },
        "plot_bgcolor": "white",
        "template": {
         "data": {
          "bar": [
           {
            "error_x": {
             "color": "#2a3f5f"
            },
            "error_y": {
             "color": "#2a3f5f"
            },
            "marker": {
             "line": {
              "color": "#E5ECF6",
              "width": 0.5
             }
            },
            "type": "bar"
           }
          ],
          "barpolar": [
           {
            "marker": {
             "line": {
              "color": "#E5ECF6",
              "width": 0.5
             }
            },
            "type": "barpolar"
           }
          ],
          "carpet": [
           {
            "aaxis": {
             "endlinecolor": "#2a3f5f",
             "gridcolor": "white",
             "linecolor": "white",
             "minorgridcolor": "white",
             "startlinecolor": "#2a3f5f"
            },
            "baxis": {
             "endlinecolor": "#2a3f5f",
             "gridcolor": "white",
             "linecolor": "white",
             "minorgridcolor": "white",
             "startlinecolor": "#2a3f5f"
            },
            "type": "carpet"
           }
          ],
          "choropleth": [
           {
            "colorbar": {
             "outlinewidth": 0,
             "ticks": ""
            },
            "type": "choropleth"
           }
          ],
          "contour": [
           {
            "colorbar": {
             "outlinewidth": 0,
             "ticks": ""
            },
            "colorscale": [
             [
              0,
              "#0d0887"
             ],
             [
              0.1111111111111111,
              "#46039f"
             ],
             [
              0.2222222222222222,
              "#7201a8"
             ],
             [
              0.3333333333333333,
              "#9c179e"
             ],
             [
              0.4444444444444444,
              "#bd3786"
             ],
             [
              0.5555555555555556,
              "#d8576b"
             ],
             [
              0.6666666666666666,
              "#ed7953"
             ],
             [
              0.7777777777777778,
              "#fb9f3a"
             ],
             [
              0.8888888888888888,
              "#fdca26"
             ],
             [
              1,
              "#f0f921"
             ]
            ],
            "type": "contour"
           }
          ],
          "contourcarpet": [
           {
            "colorbar": {
             "outlinewidth": 0,
             "ticks": ""
            },
            "type": "contourcarpet"
           }
          ],
          "heatmap": [
           {
            "colorbar": {
             "outlinewidth": 0,
             "ticks": ""
            },
            "colorscale": [
             [
              0,
              "#0d0887"
             ],
             [
              0.1111111111111111,
              "#46039f"
             ],
             [
              0.2222222222222222,
              "#7201a8"
             ],
             [
              0.3333333333333333,
              "#9c179e"
             ],
             [
              0.4444444444444444,
              "#bd3786"
             ],
             [
              0.5555555555555556,
              "#d8576b"
             ],
             [
              0.6666666666666666,
              "#ed7953"
             ],
             [
              0.7777777777777778,
              "#fb9f3a"
             ],
             [
              0.8888888888888888,
              "#fdca26"
             ],
             [
              1,
              "#f0f921"
             ]
            ],
            "type": "heatmap"
           }
          ],
          "heatmapgl": [
           {
            "colorbar": {
             "outlinewidth": 0,
             "ticks": ""
            },
            "colorscale": [
             [
              0,
              "#0d0887"
             ],
             [
              0.1111111111111111,
              "#46039f"
             ],
             [
              0.2222222222222222,
              "#7201a8"
             ],
             [
              0.3333333333333333,
              "#9c179e"
             ],
             [
              0.4444444444444444,
              "#bd3786"
             ],
             [
              0.5555555555555556,
              "#d8576b"
             ],
             [
              0.6666666666666666,
              "#ed7953"
             ],
             [
              0.7777777777777778,
              "#fb9f3a"
             ],
             [
              0.8888888888888888,
              "#fdca26"
             ],
             [
              1,
              "#f0f921"
             ]
            ],
            "type": "heatmapgl"
           }
          ],
          "histogram": [
           {
            "marker": {
             "colorbar": {
              "outlinewidth": 0,
              "ticks": ""
             }
            },
            "type": "histogram"
           }
          ],
          "histogram2d": [
           {
            "colorbar": {
             "outlinewidth": 0,
             "ticks": ""
            },
            "colorscale": [
             [
              0,
              "#0d0887"
             ],
             [
              0.1111111111111111,
              "#46039f"
             ],
             [
              0.2222222222222222,
              "#7201a8"
             ],
             [
              0.3333333333333333,
              "#9c179e"
             ],
             [
              0.4444444444444444,
              "#bd3786"
             ],
             [
              0.5555555555555556,
              "#d8576b"
             ],
             [
              0.6666666666666666,
              "#ed7953"
             ],
             [
              0.7777777777777778,
              "#fb9f3a"
             ],
             [
              0.8888888888888888,
              "#fdca26"
             ],
             [
              1,
              "#f0f921"
             ]
            ],
            "type": "histogram2d"
           }
          ],
          "histogram2dcontour": [
           {
            "colorbar": {
             "outlinewidth": 0,
             "ticks": ""
            },
            "colorscale": [
             [
              0,
              "#0d0887"
             ],
             [
              0.1111111111111111,
              "#46039f"
             ],
             [
              0.2222222222222222,
              "#7201a8"
             ],
             [
              0.3333333333333333,
              "#9c179e"
             ],
             [
              0.4444444444444444,
              "#bd3786"
             ],
             [
              0.5555555555555556,
              "#d8576b"
             ],
             [
              0.6666666666666666,
              "#ed7953"
             ],
             [
              0.7777777777777778,
              "#fb9f3a"
             ],
             [
              0.8888888888888888,
              "#fdca26"
             ],
             [
              1,
              "#f0f921"
             ]
            ],
            "type": "histogram2dcontour"
           }
          ],
          "mesh3d": [
           {
            "colorbar": {
             "outlinewidth": 0,
             "ticks": ""
            },
            "type": "mesh3d"
           }
          ],
          "parcoords": [
           {
            "line": {
             "colorbar": {
              "outlinewidth": 0,
              "ticks": ""
             }
            },
            "type": "parcoords"
           }
          ],
          "scatter": [
           {
            "marker": {
             "colorbar": {
              "outlinewidth": 0,
              "ticks": ""
             }
            },
            "type": "scatter"
           }
          ],
          "scatter3d": [
           {
            "line": {
             "colorbar": {
              "outlinewidth": 0,
              "ticks": ""
             }
            },
            "marker": {
             "colorbar": {
              "outlinewidth": 0,
              "ticks": ""
             }
            },
            "type": "scatter3d"
           }
          ],
          "scattercarpet": [
           {
            "marker": {
             "colorbar": {
              "outlinewidth": 0,
              "ticks": ""
             }
            },
            "type": "scattercarpet"
           }
          ],
          "scattergeo": [
           {
            "marker": {
             "colorbar": {
              "outlinewidth": 0,
              "ticks": ""
             }
            },
            "type": "scattergeo"
           }
          ],
          "scattergl": [
           {
            "marker": {
             "colorbar": {
              "outlinewidth": 0,
              "ticks": ""
             }
            },
            "type": "scattergl"
           }
          ],
          "scattermapbox": [
           {
            "marker": {
             "colorbar": {
              "outlinewidth": 0,
              "ticks": ""
             }
            },
            "type": "scattermapbox"
           }
          ],
          "scatterpolar": [
           {
            "marker": {
             "colorbar": {
              "outlinewidth": 0,
              "ticks": ""
             }
            },
            "type": "scatterpolar"
           }
          ],
          "scatterpolargl": [
           {
            "marker": {
             "colorbar": {
              "outlinewidth": 0,
              "ticks": ""
             }
            },
            "type": "scatterpolargl"
           }
          ],
          "scatterternary": [
           {
            "marker": {
             "colorbar": {
              "outlinewidth": 0,
              "ticks": ""
             }
            },
            "type": "scatterternary"
           }
          ],
          "surface": [
           {
            "colorbar": {
             "outlinewidth": 0,
             "ticks": ""
            },
            "colorscale": [
             [
              0,
              "#0d0887"
             ],
             [
              0.1111111111111111,
              "#46039f"
             ],
             [
              0.2222222222222222,
              "#7201a8"
             ],
             [
              0.3333333333333333,
              "#9c179e"
             ],
             [
              0.4444444444444444,
              "#bd3786"
             ],
             [
              0.5555555555555556,
              "#d8576b"
             ],
             [
              0.6666666666666666,
              "#ed7953"
             ],
             [
              0.7777777777777778,
              "#fb9f3a"
             ],
             [
              0.8888888888888888,
              "#fdca26"
             ],
             [
              1,
              "#f0f921"
             ]
            ],
            "type": "surface"
           }
          ],
          "table": [
           {
            "cells": {
             "fill": {
              "color": "#EBF0F8"
             },
             "line": {
              "color": "white"
             }
            },
            "header": {
             "fill": {
              "color": "#C8D4E3"
             },
             "line": {
              "color": "white"
             }
            },
            "type": "table"
           }
          ]
         },
         "layout": {
          "annotationdefaults": {
           "arrowcolor": "#2a3f5f",
           "arrowhead": 0,
           "arrowwidth": 1
          },
          "colorscale": {
           "diverging": [
            [
             0,
             "#8e0152"
            ],
            [
             0.1,
             "#c51b7d"
            ],
            [
             0.2,
             "#de77ae"
            ],
            [
             0.3,
             "#f1b6da"
            ],
            [
             0.4,
             "#fde0ef"
            ],
            [
             0.5,
             "#f7f7f7"
            ],
            [
             0.6,
             "#e6f5d0"
            ],
            [
             0.7,
             "#b8e186"
            ],
            [
             0.8,
             "#7fbc41"
            ],
            [
             0.9,
             "#4d9221"
            ],
            [
             1,
             "#276419"
            ]
           ],
           "sequential": [
            [
             0,
             "#0d0887"
            ],
            [
             0.1111111111111111,
             "#46039f"
            ],
            [
             0.2222222222222222,
             "#7201a8"
            ],
            [
             0.3333333333333333,
             "#9c179e"
            ],
            [
             0.4444444444444444,
             "#bd3786"
            ],
            [
             0.5555555555555556,
             "#d8576b"
            ],
            [
             0.6666666666666666,
             "#ed7953"
            ],
            [
             0.7777777777777778,
             "#fb9f3a"
            ],
            [
             0.8888888888888888,
             "#fdca26"
            ],
            [
             1,
             "#f0f921"
            ]
           ],
           "sequentialminus": [
            [
             0,
             "#0d0887"
            ],
            [
             0.1111111111111111,
             "#46039f"
            ],
            [
             0.2222222222222222,
             "#7201a8"
            ],
            [
             0.3333333333333333,
             "#9c179e"
            ],
            [
             0.4444444444444444,
             "#bd3786"
            ],
            [
             0.5555555555555556,
             "#d8576b"
            ],
            [
             0.6666666666666666,
             "#ed7953"
            ],
            [
             0.7777777777777778,
             "#fb9f3a"
            ],
            [
             0.8888888888888888,
             "#fdca26"
            ],
            [
             1,
             "#f0f921"
            ]
           ]
          },
          "colorway": [
           "#636efa",
           "#EF553B",
           "#00cc96",
           "#ab63fa",
           "#FFA15A",
           "#19d3f3",
           "#FF6692",
           "#B6E880",
           "#FF97FF",
           "#FECB52"
          ],
          "font": {
           "color": "#2a3f5f"
          },
          "geo": {
           "bgcolor": "white",
           "lakecolor": "white",
           "landcolor": "#E5ECF6",
           "showlakes": true,
           "showland": true,
           "subunitcolor": "white"
          },
          "hoverlabel": {
           "align": "left"
          },
          "hovermode": "closest",
          "mapbox": {
           "style": "light"
          },
          "paper_bgcolor": "white",
          "plot_bgcolor": "#E5ECF6",
          "polar": {
           "angularaxis": {
            "gridcolor": "white",
            "linecolor": "white",
            "ticks": ""
           },
           "bgcolor": "#E5ECF6",
           "radialaxis": {
            "gridcolor": "white",
            "linecolor": "white",
            "ticks": ""
           }
          },
          "scene": {
           "xaxis": {
            "backgroundcolor": "#E5ECF6",
            "gridcolor": "white",
            "gridwidth": 2,
            "linecolor": "white",
            "showbackground": true,
            "ticks": "",
            "zerolinecolor": "white"
           },
           "yaxis": {
            "backgroundcolor": "#E5ECF6",
            "gridcolor": "white",
            "gridwidth": 2,
            "linecolor": "white",
            "showbackground": true,
            "ticks": "",
            "zerolinecolor": "white"
           },
           "zaxis": {
            "backgroundcolor": "#E5ECF6",
            "gridcolor": "white",
            "gridwidth": 2,
            "linecolor": "white",
            "showbackground": true,
            "ticks": "",
            "zerolinecolor": "white"
           }
          },
          "shapedefaults": {
           "line": {
            "color": "#2a3f5f"
           }
          },
          "ternary": {
           "aaxis": {
            "gridcolor": "white",
            "linecolor": "white",
            "ticks": ""
           },
           "baxis": {
            "gridcolor": "white",
            "linecolor": "white",
            "ticks": ""
           },
           "bgcolor": "#E5ECF6",
           "caxis": {
            "gridcolor": "white",
            "linecolor": "white",
            "ticks": ""
           }
          },
          "title": {
           "x": 0.05
          },
          "xaxis": {
           "automargin": true,
           "gridcolor": "white",
           "linecolor": "white",
           "ticks": "",
           "zerolinecolor": "white",
           "zerolinewidth": 2
          },
          "yaxis": {
           "automargin": true,
           "gridcolor": "white",
           "linecolor": "white",
           "ticks": "",
           "zerolinecolor": "white",
           "zerolinewidth": 2
          }
         }
        },
        "xaxis": {
         "gridcolor": "rgba(0,0,0,0.25)",
         "linecolor": "black",
         "linewidth": 2,
         "mirror": "ticks",
         "range": [
          -0.5,
          13.5
         ],
         "showline": true,
         "tickangle": 45,
         "ticks": "inside",
         "zeroline": false
        },
        "yaxis": {
         "gridcolor": "rgba(0,0,0,0.25)",
         "linecolor": "black",
         "linewidth": 2,
         "mirror": "ticks",
         "range": [
          -3,
          0
         ],
         "showline": true,
         "ticks": "inside",
         "ticktext": [
          "0.001",
          "",
          "",
          "",
          "",
          "",
          "",
          "",
          "",
          "0.01",
          "",
          "",
          "",
          "",
          "",
          "",
          "",
          "",
          "0.1",
          "",
          "",
          "",
          "",
          "",
          "",
          "",
          "",
          "1.0"
         ],
         "tickvals": [
          0.001,
          0.002,
          0.003,
          0.004,
          0.005,
          0.006,
          0.007,
          0.008,
          0.009,
          0.01,
          0.02,
          0.03,
          0.04,
          0.05,
          0.060000000000000005,
          0.06999999999999999,
          0.08,
          0.09,
          0.1,
          0.2,
          0.30000000000000004,
          0.4,
          0.5,
          0.6,
          0.7000000000000001,
          0.8,
          0.9,
          1
         ],
         "title": {
          "font": {
           "size": 24
          },
          "text": "[X/Fe]"
         },
         "type": "log",
         "zeroline": false
        }
       }
      },
      "text/html": [
       "<div>\n",
       "        \n",
       "        \n",
       "            <div id=\"0974f2da-c1b9-4c38-895f-219b9a644795\" class=\"plotly-graph-div\" style=\"height:525px; width:100%;\"></div>\n",
       "            <script type=\"text/javascript\">\n",
       "                require([\"plotly\"], function(Plotly) {\n",
       "                    window.PLOTLYENV=window.PLOTLYENV || {};\n",
       "                    \n",
       "                if (document.getElementById(\"0974f2da-c1b9-4c38-895f-219b9a644795\")) {\n",
       "                    Plotly.newPlot(\n",
       "                        '0974f2da-c1b9-4c38-895f-219b9a644795',\n",
       "                        [{\"connectgaps\": true, \"line\": {\"color\": \"rgba(0.267004, 0.004874, 0.329415, 1.0)\"}, \"marker\": {\"line\": {\"width\": 2}, \"size\": 12}, \"mode\": \"lines+markers\", \"name\": \"DEIMOS 1200G\", \"type\": \"scatter\", \"x\": [\"$T_{eff}$ (100 K)\", \"$\\\\log(g)$\", \"$v_{micro}$ (km/s)\", \"Fe\", \"Ca\", \"Ni\", \"Si\", \"Ti\", \"Co\", \"Mg\", \"Cr\", \"Na\", \"K\", \"Sc\"], \"y\": [0.299509851131378, 0.18539478779404614, 0.12299197925507732, 0.036966986673976986, 0.04451639306362579, 0.05018724984268617, 0.06298470803073321, 0.07914608096556325, 0.08584869408444706, 0.09114080199491441, 0.1197155687621879, 0.135483394511746, 0.1450462090230121, 0.19801416393357238]}],\n",
       "                        {\"legend\": {\"font\": {\"size\": 16}, \"orientation\": \"h\", \"x\": 0.99, \"xanchor\": \"right\", \"y\": 0.01, \"yanchor\": \"bottom\"}, \"plot_bgcolor\": \"white\", \"template\": {\"data\": {\"bar\": [{\"error_x\": {\"color\": \"#2a3f5f\"}, \"error_y\": {\"color\": \"#2a3f5f\"}, \"marker\": {\"line\": {\"color\": \"#E5ECF6\", \"width\": 0.5}}, \"type\": \"bar\"}], \"barpolar\": [{\"marker\": {\"line\": {\"color\": \"#E5ECF6\", \"width\": 0.5}}, \"type\": \"barpolar\"}], \"carpet\": [{\"aaxis\": {\"endlinecolor\": \"#2a3f5f\", \"gridcolor\": \"white\", \"linecolor\": \"white\", \"minorgridcolor\": \"white\", \"startlinecolor\": \"#2a3f5f\"}, \"baxis\": {\"endlinecolor\": \"#2a3f5f\", \"gridcolor\": \"white\", \"linecolor\": \"white\", \"minorgridcolor\": \"white\", \"startlinecolor\": \"#2a3f5f\"}, \"type\": \"carpet\"}], \"choropleth\": [{\"colorbar\": {\"outlinewidth\": 0, \"ticks\": \"\"}, \"type\": \"choropleth\"}], \"contour\": [{\"colorbar\": {\"outlinewidth\": 0, \"ticks\": \"\"}, \"colorscale\": [[0.0, \"#0d0887\"], [0.1111111111111111, \"#46039f\"], [0.2222222222222222, \"#7201a8\"], [0.3333333333333333, \"#9c179e\"], [0.4444444444444444, \"#bd3786\"], [0.5555555555555556, \"#d8576b\"], [0.6666666666666666, \"#ed7953\"], [0.7777777777777778, \"#fb9f3a\"], [0.8888888888888888, \"#fdca26\"], [1.0, \"#f0f921\"]], \"type\": \"contour\"}], \"contourcarpet\": [{\"colorbar\": {\"outlinewidth\": 0, \"ticks\": \"\"}, \"type\": \"contourcarpet\"}], \"heatmap\": [{\"colorbar\": {\"outlinewidth\": 0, \"ticks\": \"\"}, \"colorscale\": [[0.0, \"#0d0887\"], [0.1111111111111111, \"#46039f\"], [0.2222222222222222, \"#7201a8\"], [0.3333333333333333, \"#9c179e\"], [0.4444444444444444, \"#bd3786\"], [0.5555555555555556, \"#d8576b\"], [0.6666666666666666, \"#ed7953\"], [0.7777777777777778, \"#fb9f3a\"], [0.8888888888888888, \"#fdca26\"], [1.0, \"#f0f921\"]], \"type\": \"heatmap\"}], \"heatmapgl\": [{\"colorbar\": {\"outlinewidth\": 0, \"ticks\": \"\"}, \"colorscale\": [[0.0, \"#0d0887\"], [0.1111111111111111, \"#46039f\"], [0.2222222222222222, \"#7201a8\"], [0.3333333333333333, \"#9c179e\"], [0.4444444444444444, \"#bd3786\"], [0.5555555555555556, \"#d8576b\"], [0.6666666666666666, \"#ed7953\"], [0.7777777777777778, \"#fb9f3a\"], [0.8888888888888888, \"#fdca26\"], [1.0, \"#f0f921\"]], \"type\": \"heatmapgl\"}], \"histogram\": [{\"marker\": {\"colorbar\": {\"outlinewidth\": 0, \"ticks\": \"\"}}, \"type\": \"histogram\"}], \"histogram2d\": [{\"colorbar\": {\"outlinewidth\": 0, \"ticks\": \"\"}, \"colorscale\": [[0.0, \"#0d0887\"], [0.1111111111111111, \"#46039f\"], [0.2222222222222222, \"#7201a8\"], [0.3333333333333333, \"#9c179e\"], [0.4444444444444444, \"#bd3786\"], [0.5555555555555556, \"#d8576b\"], [0.6666666666666666, \"#ed7953\"], [0.7777777777777778, \"#fb9f3a\"], [0.8888888888888888, \"#fdca26\"], [1.0, \"#f0f921\"]], \"type\": \"histogram2d\"}], \"histogram2dcontour\": [{\"colorbar\": {\"outlinewidth\": 0, \"ticks\": \"\"}, \"colorscale\": [[0.0, \"#0d0887\"], [0.1111111111111111, \"#46039f\"], [0.2222222222222222, \"#7201a8\"], [0.3333333333333333, \"#9c179e\"], [0.4444444444444444, \"#bd3786\"], [0.5555555555555556, \"#d8576b\"], [0.6666666666666666, \"#ed7953\"], [0.7777777777777778, \"#fb9f3a\"], [0.8888888888888888, \"#fdca26\"], [1.0, \"#f0f921\"]], \"type\": \"histogram2dcontour\"}], \"mesh3d\": [{\"colorbar\": {\"outlinewidth\": 0, \"ticks\": \"\"}, \"type\": \"mesh3d\"}], \"parcoords\": [{\"line\": {\"colorbar\": {\"outlinewidth\": 0, \"ticks\": \"\"}}, \"type\": \"parcoords\"}], \"scatter\": [{\"marker\": {\"colorbar\": {\"outlinewidth\": 0, \"ticks\": \"\"}}, \"type\": \"scatter\"}], \"scatter3d\": [{\"line\": {\"colorbar\": {\"outlinewidth\": 0, \"ticks\": \"\"}}, \"marker\": {\"colorbar\": {\"outlinewidth\": 0, \"ticks\": \"\"}}, \"type\": \"scatter3d\"}], \"scattercarpet\": [{\"marker\": {\"colorbar\": {\"outlinewidth\": 0, \"ticks\": \"\"}}, \"type\": \"scattercarpet\"}], \"scattergeo\": [{\"marker\": {\"colorbar\": {\"outlinewidth\": 0, \"ticks\": \"\"}}, \"type\": \"scattergeo\"}], \"scattergl\": [{\"marker\": {\"colorbar\": {\"outlinewidth\": 0, \"ticks\": \"\"}}, \"type\": \"scattergl\"}], \"scattermapbox\": [{\"marker\": {\"colorbar\": {\"outlinewidth\": 0, \"ticks\": \"\"}}, \"type\": \"scattermapbox\"}], \"scatterpolar\": [{\"marker\": {\"colorbar\": {\"outlinewidth\": 0, \"ticks\": \"\"}}, \"type\": \"scatterpolar\"}], \"scatterpolargl\": [{\"marker\": {\"colorbar\": {\"outlinewidth\": 0, \"ticks\": \"\"}}, \"type\": \"scatterpolargl\"}], \"scatterternary\": [{\"marker\": {\"colorbar\": {\"outlinewidth\": 0, \"ticks\": \"\"}}, \"type\": \"scatterternary\"}], \"surface\": [{\"colorbar\": {\"outlinewidth\": 0, \"ticks\": \"\"}, \"colorscale\": [[0.0, \"#0d0887\"], [0.1111111111111111, \"#46039f\"], [0.2222222222222222, \"#7201a8\"], [0.3333333333333333, \"#9c179e\"], [0.4444444444444444, \"#bd3786\"], [0.5555555555555556, \"#d8576b\"], [0.6666666666666666, \"#ed7953\"], [0.7777777777777778, \"#fb9f3a\"], [0.8888888888888888, \"#fdca26\"], [1.0, \"#f0f921\"]], \"type\": \"surface\"}], \"table\": [{\"cells\": {\"fill\": {\"color\": \"#EBF0F8\"}, \"line\": {\"color\": \"white\"}}, \"header\": {\"fill\": {\"color\": \"#C8D4E3\"}, \"line\": {\"color\": \"white\"}}, \"type\": \"table\"}]}, \"layout\": {\"annotationdefaults\": {\"arrowcolor\": \"#2a3f5f\", \"arrowhead\": 0, \"arrowwidth\": 1}, \"colorscale\": {\"diverging\": [[0, \"#8e0152\"], [0.1, \"#c51b7d\"], [0.2, \"#de77ae\"], [0.3, \"#f1b6da\"], [0.4, \"#fde0ef\"], [0.5, \"#f7f7f7\"], [0.6, \"#e6f5d0\"], [0.7, \"#b8e186\"], [0.8, \"#7fbc41\"], [0.9, \"#4d9221\"], [1, \"#276419\"]], \"sequential\": [[0.0, \"#0d0887\"], [0.1111111111111111, \"#46039f\"], [0.2222222222222222, \"#7201a8\"], [0.3333333333333333, \"#9c179e\"], [0.4444444444444444, \"#bd3786\"], [0.5555555555555556, \"#d8576b\"], [0.6666666666666666, \"#ed7953\"], [0.7777777777777778, \"#fb9f3a\"], [0.8888888888888888, \"#fdca26\"], [1.0, \"#f0f921\"]], \"sequentialminus\": [[0.0, \"#0d0887\"], [0.1111111111111111, \"#46039f\"], [0.2222222222222222, \"#7201a8\"], [0.3333333333333333, \"#9c179e\"], [0.4444444444444444, \"#bd3786\"], [0.5555555555555556, \"#d8576b\"], [0.6666666666666666, \"#ed7953\"], [0.7777777777777778, \"#fb9f3a\"], [0.8888888888888888, \"#fdca26\"], [1.0, \"#f0f921\"]]}, \"colorway\": [\"#636efa\", \"#EF553B\", \"#00cc96\", \"#ab63fa\", \"#FFA15A\", \"#19d3f3\", \"#FF6692\", \"#B6E880\", \"#FF97FF\", \"#FECB52\"], \"font\": {\"color\": \"#2a3f5f\"}, \"geo\": {\"bgcolor\": \"white\", \"lakecolor\": \"white\", \"landcolor\": \"#E5ECF6\", \"showlakes\": true, \"showland\": true, \"subunitcolor\": \"white\"}, \"hoverlabel\": {\"align\": \"left\"}, \"hovermode\": \"closest\", \"mapbox\": {\"style\": \"light\"}, \"paper_bgcolor\": \"white\", \"plot_bgcolor\": \"#E5ECF6\", \"polar\": {\"angularaxis\": {\"gridcolor\": \"white\", \"linecolor\": \"white\", \"ticks\": \"\"}, \"bgcolor\": \"#E5ECF6\", \"radialaxis\": {\"gridcolor\": \"white\", \"linecolor\": \"white\", \"ticks\": \"\"}}, \"scene\": {\"xaxis\": {\"backgroundcolor\": \"#E5ECF6\", \"gridcolor\": \"white\", \"gridwidth\": 2, \"linecolor\": \"white\", \"showbackground\": true, \"ticks\": \"\", \"zerolinecolor\": \"white\"}, \"yaxis\": {\"backgroundcolor\": \"#E5ECF6\", \"gridcolor\": \"white\", \"gridwidth\": 2, \"linecolor\": \"white\", \"showbackground\": true, \"ticks\": \"\", \"zerolinecolor\": \"white\"}, \"zaxis\": {\"backgroundcolor\": \"#E5ECF6\", \"gridcolor\": \"white\", \"gridwidth\": 2, \"linecolor\": \"white\", \"showbackground\": true, \"ticks\": \"\", \"zerolinecolor\": \"white\"}}, \"shapedefaults\": {\"line\": {\"color\": \"#2a3f5f\"}}, \"ternary\": {\"aaxis\": {\"gridcolor\": \"white\", \"linecolor\": \"white\", \"ticks\": \"\"}, \"baxis\": {\"gridcolor\": \"white\", \"linecolor\": \"white\", \"ticks\": \"\"}, \"bgcolor\": \"#E5ECF6\", \"caxis\": {\"gridcolor\": \"white\", \"linecolor\": \"white\", \"ticks\": \"\"}}, \"title\": {\"x\": 0.05}, \"xaxis\": {\"automargin\": true, \"gridcolor\": \"white\", \"linecolor\": \"white\", \"ticks\": \"\", \"zerolinecolor\": \"white\", \"zerolinewidth\": 2}, \"yaxis\": {\"automargin\": true, \"gridcolor\": \"white\", \"linecolor\": \"white\", \"ticks\": \"\", \"zerolinecolor\": \"white\", \"zerolinewidth\": 2}}}, \"xaxis\": {\"gridcolor\": \"rgba(0,0,0,0.25)\", \"linecolor\": \"black\", \"linewidth\": 2, \"mirror\": \"ticks\", \"range\": [-0.5, 13.5], \"showline\": true, \"tickangle\": 45, \"ticks\": \"inside\", \"zeroline\": false}, \"yaxis\": {\"gridcolor\": \"rgba(0,0,0,0.25)\", \"linecolor\": \"black\", \"linewidth\": 2, \"mirror\": \"ticks\", \"range\": [-3, 0], \"showline\": true, \"ticks\": \"inside\", \"ticktext\": [\"0.001\", \"\", \"\", \"\", \"\", \"\", \"\", \"\", \"\", \"0.01\", \"\", \"\", \"\", \"\", \"\", \"\", \"\", \"\", \"0.1\", \"\", \"\", \"\", \"\", \"\", \"\", \"\", \"\", \"1.0\"], \"tickvals\": [0.001, 0.002, 0.003, 0.004, 0.005, 0.006, 0.007, 0.008, 0.009, 0.01, 0.02, 0.03, 0.04, 0.05, 0.060000000000000005, 0.06999999999999999, 0.08, 0.09, 0.1, 0.2, 0.30000000000000004, 0.4, 0.5, 0.6, 0.7000000000000001, 0.8, 0.9, 1.0], \"title\": {\"font\": {\"size\": 24}, \"text\": \"[X/Fe]\"}, \"type\": \"log\", \"zeroline\": false}},\n",
       "                        {\"responsive\": true}\n",
       "                    ).then(function(){\n",
       "                            \n",
       "var gd = document.getElementById('0974f2da-c1b9-4c38-895f-219b9a644795');\n",
       "var x = new MutationObserver(function (mutations, observer) {{\n",
       "        var display = window.getComputedStyle(gd).display;\n",
       "        if (!display || display === 'none') {{\n",
       "            console.log([gd, 'removed!']);\n",
       "            Plotly.purge(gd);\n",
       "            observer.disconnect();\n",
       "        }}\n",
       "}});\n",
       "\n",
       "// Listen for the removal of the full notebook cells\n",
       "var notebookContainer = gd.closest('#notebook-container');\n",
       "if (notebookContainer) {{\n",
       "    x.observe(notebookContainer, {childList: true});\n",
       "}}\n",
       "\n",
       "// Listen for the clearing of the current output cell\n",
       "var outputEl = gd.closest('.output');\n",
       "if (outputEl) {{\n",
       "    x.observe(outputEl, {childList: true});\n",
       "}}\n",
       "\n",
       "                        })\n",
       "                };\n",
       "                });\n",
       "            </script>\n",
       "        </div>"
      ]
     },
     "metadata": {},
     "output_type": "display_data"
    }
   ],
   "source": [
    "import pandas as pd\n",
    "import plotly.graph_objs as go\n",
    "\n",
    "from chemicalc import instruments as inst\n",
    "from chemicalc import s2n\n",
    "from chemicalc import reference_spectra as ref\n",
    "from chemicalc.utils import calc_crlb, sort_crlb\n",
    "from chemicalc.plot import plotly_crlb, overplot_crlb, multiplot_crlb\n",
    "\n",
    "# Initialize Preset Instrument\n",
    "allInst = inst.AllInstruments()\n",
    "d1200g = allInst.spectrographs['DEIMOS 1200G']\n",
    "\n",
    "# Initialize Reference Spectra\n",
    "RGB = ref.ReferenceSpectra(reference='RGB_m1.5', res='high')\n",
    "\n",
    "# Convolve Reference Spectra to Insturment Resolution\n",
    "RGB.convolve(d1200g)\n",
    "\n",
    "# Calculate Gradient Spectra\n",
    "RGB.calc_gradient(d1200g.name, symmetric=True, ref_included=True, v_micro_scaling=1)\n",
    "\n",
    "# Set SNR\n",
    "one_hour = 3600  # s\n",
    "d1200G_snr_query_1h = s2n.Sig2NoiseDEIMOS(grating='1200G', exptime=1*one_hour, mag=19, magtype='Vega',\n",
    "                                          band='Buser_V.dat', template='K5V_pickles_36.fits',\n",
    "                                          cwave='7000', slitwidth='0.75', binning='1x1',\n",
    "                                          airmass=1.1, seeing=0.75, redshift=0)\n",
    "d1200g.set_snr(d1200G_snr_query_1h)\n",
    "\n",
    "# Calculate CRLB\n",
    "CRLB = pd.DataFrame(index=RGB.labels.index)\n",
    "CRLB[d1200g.name] = calc_crlb(RGB, d1200g)\n",
    "CRLB = sort_crlb(CRLB, cutoff=0.3, sort_by='default')\n",
    "\n",
    "# Plot CRLB\n",
    "CRLB.index = [r'$T_{eff}$ (100 K)', r'$\\log(g)$', r'$v_{micro}$ (km/s)'] + list(CRLB.index[3:])\n",
    "plotly_crlb(CRLB)"
   ]
  },
  {
   "cell_type": "code",
   "execution_count": null,
   "metadata": {},
   "outputs": [],
   "source": []
  }
 ],
 "metadata": {
  "kernelspec": {
   "display_name": "Python 3",
   "language": "python",
   "name": "python3"
  },
  "language_info": {
   "codemirror_mode": {
    "name": "ipython",
    "version": 3
   },
   "file_extension": ".py",
   "mimetype": "text/x-python",
   "name": "python",
   "nbconvert_exporter": "python",
   "pygments_lexer": "ipython3",
   "version": "3.7.3"
  }
 },
 "nbformat": 4,
 "nbformat_minor": 2
}
